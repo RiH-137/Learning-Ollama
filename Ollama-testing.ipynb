{
 "cells": [
  {
   "cell_type": "code",
   "execution_count": 5,
   "id": "9788d6ab-9a81-486e-9563-21f85f441cdb",
   "metadata": {},
   "outputs": [
    {
     "name": "stdout",
     "output_type": "stream",
     "text": [
      "Collecting langchain\n",
      "  Using cached langchain-0.2.11-py3-none-any.whl.metadata (7.1 kB)\n",
      "Requirement already satisfied: PyYAML>=5.3 in c:\\drag software\\anaconda3\\lib\\site-packages (from langchain) (6.0.1)\n",
      "Requirement already satisfied: SQLAlchemy<3,>=1.4 in c:\\drag software\\anaconda3\\lib\\site-packages (from langchain) (2.0.30)\n",
      "Requirement already satisfied: aiohttp<4.0.0,>=3.8.3 in c:\\drag software\\anaconda3\\lib\\site-packages (from langchain) (3.9.5)\n",
      "Collecting langchain-core<0.3.0,>=0.2.23 (from langchain)\n",
      "  Using cached langchain_core-0.2.24-py3-none-any.whl.metadata (6.2 kB)\n",
      "Collecting langchain-text-splitters<0.3.0,>=0.2.0 (from langchain)\n",
      "  Using cached langchain_text_splitters-0.2.2-py3-none-any.whl.metadata (2.1 kB)\n",
      "Collecting langsmith<0.2.0,>=0.1.17 (from langchain)\n",
      "  Using cached langsmith-0.1.93-py3-none-any.whl.metadata (13 kB)\n",
      "Requirement already satisfied: numpy<2.0.0,>=1.26.0 in c:\\drag software\\anaconda3\\lib\\site-packages (from langchain) (1.26.4)\n",
      "Requirement already satisfied: pydantic<3,>=1 in c:\\drag software\\anaconda3\\lib\\site-packages (from langchain) (2.5.3)\n",
      "Requirement already satisfied: requests<3,>=2 in c:\\drag software\\anaconda3\\lib\\site-packages (from langchain) (2.32.2)\n",
      "Requirement already satisfied: tenacity!=8.4.0,<9.0.0,>=8.1.0 in c:\\drag software\\anaconda3\\lib\\site-packages (from langchain) (8.2.2)\n",
      "Requirement already satisfied: aiosignal>=1.1.2 in c:\\drag software\\anaconda3\\lib\\site-packages (from aiohttp<4.0.0,>=3.8.3->langchain) (1.2.0)\n",
      "Requirement already satisfied: attrs>=17.3.0 in c:\\drag software\\anaconda3\\lib\\site-packages (from aiohttp<4.0.0,>=3.8.3->langchain) (23.1.0)\n",
      "Requirement already satisfied: frozenlist>=1.1.1 in c:\\drag software\\anaconda3\\lib\\site-packages (from aiohttp<4.0.0,>=3.8.3->langchain) (1.4.0)\n",
      "Requirement already satisfied: multidict<7.0,>=4.5 in c:\\drag software\\anaconda3\\lib\\site-packages (from aiohttp<4.0.0,>=3.8.3->langchain) (6.0.4)\n",
      "Requirement already satisfied: yarl<2.0,>=1.0 in c:\\drag software\\anaconda3\\lib\\site-packages (from aiohttp<4.0.0,>=3.8.3->langchain) (1.9.3)\n",
      "Requirement already satisfied: jsonpatch<2.0,>=1.33 in c:\\drag software\\anaconda3\\lib\\site-packages (from langchain-core<0.3.0,>=0.2.23->langchain) (1.33)\n",
      "Requirement already satisfied: packaging<25,>=23.2 in c:\\drag software\\anaconda3\\lib\\site-packages (from langchain-core<0.3.0,>=0.2.23->langchain) (23.2)\n",
      "Collecting pydantic<3,>=1 (from langchain)\n",
      "  Using cached pydantic-2.8.2-py3-none-any.whl.metadata (125 kB)\n",
      "Collecting orjson<4.0.0,>=3.9.14 (from langsmith<0.2.0,>=0.1.17->langchain)\n",
      "  Downloading orjson-3.10.6-cp312-none-win_amd64.whl.metadata (51 kB)\n",
      "     ---------------------------------------- 0.0/51.6 kB ? eta -:--:--\n",
      "     --------------- ---------------------- 20.5/51.6 kB 320.0 kB/s eta 0:00:01\n",
      "     -------------------------------------  51.2/51.6 kB 518.5 kB/s eta 0:00:01\n",
      "     -------------------------------------- 51.6/51.6 kB 440.5 kB/s eta 0:00:00\n",
      "Requirement already satisfied: annotated-types>=0.4.0 in c:\\drag software\\anaconda3\\lib\\site-packages (from pydantic<3,>=1->langchain) (0.6.0)\n",
      "Collecting pydantic-core==2.20.1 (from pydantic<3,>=1->langchain)\n",
      "  Downloading pydantic_core-2.20.1-cp312-none-win_amd64.whl.metadata (6.7 kB)\n",
      "Requirement already satisfied: typing-extensions>=4.6.1 in c:\\drag software\\anaconda3\\lib\\site-packages (from pydantic<3,>=1->langchain) (4.11.0)\n",
      "Requirement already satisfied: charset-normalizer<4,>=2 in c:\\drag software\\anaconda3\\lib\\site-packages (from requests<3,>=2->langchain) (2.0.4)\n",
      "Requirement already satisfied: idna<4,>=2.5 in c:\\drag software\\anaconda3\\lib\\site-packages (from requests<3,>=2->langchain) (3.7)\n",
      "Requirement already satisfied: urllib3<3,>=1.21.1 in c:\\drag software\\anaconda3\\lib\\site-packages (from requests<3,>=2->langchain) (2.2.2)\n",
      "Requirement already satisfied: certifi>=2017.4.17 in c:\\drag software\\anaconda3\\lib\\site-packages (from requests<3,>=2->langchain) (2024.7.4)\n",
      "Requirement already satisfied: greenlet!=0.4.17 in c:\\drag software\\anaconda3\\lib\\site-packages (from SQLAlchemy<3,>=1.4->langchain) (3.0.1)\n",
      "Requirement already satisfied: jsonpointer>=1.9 in c:\\drag software\\anaconda3\\lib\\site-packages (from jsonpatch<2.0,>=1.33->langchain-core<0.3.0,>=0.2.23->langchain) (2.1)\n",
      "Using cached langchain-0.2.11-py3-none-any.whl (990 kB)\n",
      "Using cached langchain_core-0.2.24-py3-none-any.whl (377 kB)\n",
      "Using cached langchain_text_splitters-0.2.2-py3-none-any.whl (25 kB)\n",
      "Using cached langsmith-0.1.93-py3-none-any.whl (139 kB)\n",
      "Using cached pydantic-2.8.2-py3-none-any.whl (423 kB)\n",
      "Downloading pydantic_core-2.20.1-cp312-none-win_amd64.whl (1.9 MB)\n",
      "   ---------------------------------------- 0.0/1.9 MB ? eta -:--:--\n",
      "    --------------------------------------- 0.0/1.9 MB 2.0 MB/s eta 0:00:01\n",
      "   ---- ----------------------------------- 0.2/1.9 MB 2.4 MB/s eta 0:00:01\n",
      "   -------- ------------------------------- 0.4/1.9 MB 3.3 MB/s eta 0:00:01\n",
      "   -------- ------------------------------- 0.4/1.9 MB 3.3 MB/s eta 0:00:01\n",
      "   ------------- -------------------------- 0.7/1.9 MB 3.0 MB/s eta 0:00:01\n",
      "   -------------- ------------------------- 0.7/1.9 MB 2.6 MB/s eta 0:00:01\n",
      "   ---------------- ----------------------- 0.8/1.9 MB 2.5 MB/s eta 0:00:01\n",
      "   ------------------- -------------------- 0.9/1.9 MB 2.6 MB/s eta 0:00:01\n",
      "   --------------------- ------------------ 1.0/1.9 MB 2.6 MB/s eta 0:00:01\n",
      "   ----------------------- ---------------- 1.1/1.9 MB 2.4 MB/s eta 0:00:01\n",
      "   ------------------------- -------------- 1.2/1.9 MB 2.4 MB/s eta 0:00:01\n",
      "   ------------------------- -------------- 1.2/1.9 MB 2.4 MB/s eta 0:00:01\n",
      "   --------------------------- ------------ 1.3/1.9 MB 2.2 MB/s eta 0:00:01\n",
      "   ----------------------------- ---------- 1.4/1.9 MB 2.2 MB/s eta 0:00:01\n",
      "   ------------------------------- -------- 1.5/1.9 MB 2.2 MB/s eta 0:00:01\n",
      "   ---------------------------------- ----- 1.6/1.9 MB 2.2 MB/s eta 0:00:01\n",
      "   ------------------------------------ --- 1.7/1.9 MB 2.2 MB/s eta 0:00:01\n",
      "   -------------------------------------- - 1.8/1.9 MB 2.2 MB/s eta 0:00:01\n",
      "   -------------------------------------- - 1.8/1.9 MB 2.1 MB/s eta 0:00:01\n",
      "   ---------------------------------------- 1.9/1.9 MB 2.0 MB/s eta 0:00:00\n",
      "Downloading orjson-3.10.6-cp312-none-win_amd64.whl (136 kB)\n",
      "   ---------------------------------------- 0.0/136.4 kB ? eta -:--:--\n",
      "   --------------- ------------------------ 51.2/136.4 kB 2.7 MB/s eta 0:00:01\n",
      "   --------------------------------- ------ 112.6/136.4 kB 1.7 MB/s eta 0:00:01\n",
      "   ---------------------------------------- 136.4/136.4 kB 1.4 MB/s eta 0:00:00\n",
      "Installing collected packages: pydantic-core, orjson, pydantic, langsmith, langchain-core, langchain-text-splitters, langchain\n",
      "  Attempting uninstall: pydantic-core\n",
      "    Found existing installation: pydantic_core 2.14.6\n",
      "    Uninstalling pydantic_core-2.14.6:\n",
      "      Successfully uninstalled pydantic_core-2.14.6\n",
      "  Attempting uninstall: pydantic\n",
      "    Found existing installation: pydantic 2.5.3\n",
      "    Uninstalling pydantic-2.5.3:\n",
      "      Successfully uninstalled pydantic-2.5.3\n",
      "Successfully installed langchain-0.2.11 langchain-core-0.2.24 langchain-text-splitters-0.2.2 langsmith-0.1.93 orjson-3.10.6 pydantic-2.8.2 pydantic-core-2.20.1\n",
      "Note: you may need to restart the kernel to use updated packages.\n"
     ]
    }
   ],
   "source": [
    "pip install langchain"
   ]
  },
  {
   "cell_type": "code",
   "execution_count": 7,
   "id": "c0661d95-3acc-4528-b1fa-b5afe22b4e50",
   "metadata": {},
   "outputs": [
    {
     "name": "stdout",
     "output_type": "stream",
     "text": [
      "Collecting langchain_community\n",
      "  Using cached langchain_community-0.2.10-py3-none-any.whl.metadata (2.7 kB)\n",
      "Requirement already satisfied: PyYAML>=5.3 in c:\\drag software\\anaconda3\\lib\\site-packages (from langchain_community) (6.0.1)\n",
      "Requirement already satisfied: SQLAlchemy<3,>=1.4 in c:\\drag software\\anaconda3\\lib\\site-packages (from langchain_community) (2.0.30)\n",
      "Requirement already satisfied: aiohttp<4.0.0,>=3.8.3 in c:\\drag software\\anaconda3\\lib\\site-packages (from langchain_community) (3.9.5)\n",
      "Collecting dataclasses-json<0.7,>=0.5.7 (from langchain_community)\n",
      "  Using cached dataclasses_json-0.6.7-py3-none-any.whl.metadata (25 kB)\n",
      "Requirement already satisfied: langchain<0.3.0,>=0.2.9 in c:\\drag software\\anaconda3\\lib\\site-packages (from langchain_community) (0.2.11)\n",
      "Requirement already satisfied: langchain-core<0.3.0,>=0.2.23 in c:\\drag software\\anaconda3\\lib\\site-packages (from langchain_community) (0.2.24)\n",
      "Requirement already satisfied: langsmith<0.2.0,>=0.1.0 in c:\\drag software\\anaconda3\\lib\\site-packages (from langchain_community) (0.1.93)\n",
      "Requirement already satisfied: numpy<2.0.0,>=1.26.0 in c:\\drag software\\anaconda3\\lib\\site-packages (from langchain_community) (1.26.4)\n",
      "Requirement already satisfied: requests<3,>=2 in c:\\drag software\\anaconda3\\lib\\site-packages (from langchain_community) (2.32.2)\n",
      "Requirement already satisfied: tenacity!=8.4.0,<9.0.0,>=8.1.0 in c:\\drag software\\anaconda3\\lib\\site-packages (from langchain_community) (8.2.2)\n",
      "Requirement already satisfied: aiosignal>=1.1.2 in c:\\drag software\\anaconda3\\lib\\site-packages (from aiohttp<4.0.0,>=3.8.3->langchain_community) (1.2.0)\n",
      "Requirement already satisfied: attrs>=17.3.0 in c:\\drag software\\anaconda3\\lib\\site-packages (from aiohttp<4.0.0,>=3.8.3->langchain_community) (23.1.0)\n",
      "Requirement already satisfied: frozenlist>=1.1.1 in c:\\drag software\\anaconda3\\lib\\site-packages (from aiohttp<4.0.0,>=3.8.3->langchain_community) (1.4.0)\n",
      "Requirement already satisfied: multidict<7.0,>=4.5 in c:\\drag software\\anaconda3\\lib\\site-packages (from aiohttp<4.0.0,>=3.8.3->langchain_community) (6.0.4)\n",
      "Requirement already satisfied: yarl<2.0,>=1.0 in c:\\drag software\\anaconda3\\lib\\site-packages (from aiohttp<4.0.0,>=3.8.3->langchain_community) (1.9.3)\n",
      "Collecting marshmallow<4.0.0,>=3.18.0 (from dataclasses-json<0.7,>=0.5.7->langchain_community)\n",
      "  Using cached marshmallow-3.21.3-py3-none-any.whl.metadata (7.1 kB)\n",
      "Collecting typing-inspect<1,>=0.4.0 (from dataclasses-json<0.7,>=0.5.7->langchain_community)\n",
      "  Using cached typing_inspect-0.9.0-py3-none-any.whl.metadata (1.5 kB)\n",
      "Requirement already satisfied: langchain-text-splitters<0.3.0,>=0.2.0 in c:\\drag software\\anaconda3\\lib\\site-packages (from langchain<0.3.0,>=0.2.9->langchain_community) (0.2.2)\n",
      "Requirement already satisfied: pydantic<3,>=1 in c:\\drag software\\anaconda3\\lib\\site-packages (from langchain<0.3.0,>=0.2.9->langchain_community) (2.8.2)\n",
      "Requirement already satisfied: jsonpatch<2.0,>=1.33 in c:\\drag software\\anaconda3\\lib\\site-packages (from langchain-core<0.3.0,>=0.2.23->langchain_community) (1.33)\n",
      "Requirement already satisfied: packaging<25,>=23.2 in c:\\drag software\\anaconda3\\lib\\site-packages (from langchain-core<0.3.0,>=0.2.23->langchain_community) (23.2)\n",
      "Requirement already satisfied: orjson<4.0.0,>=3.9.14 in c:\\drag software\\anaconda3\\lib\\site-packages (from langsmith<0.2.0,>=0.1.0->langchain_community) (3.10.6)\n",
      "Requirement already satisfied: charset-normalizer<4,>=2 in c:\\drag software\\anaconda3\\lib\\site-packages (from requests<3,>=2->langchain_community) (2.0.4)\n",
      "Requirement already satisfied: idna<4,>=2.5 in c:\\drag software\\anaconda3\\lib\\site-packages (from requests<3,>=2->langchain_community) (3.7)\n",
      "Requirement already satisfied: urllib3<3,>=1.21.1 in c:\\drag software\\anaconda3\\lib\\site-packages (from requests<3,>=2->langchain_community) (2.2.2)\n",
      "Requirement already satisfied: certifi>=2017.4.17 in c:\\drag software\\anaconda3\\lib\\site-packages (from requests<3,>=2->langchain_community) (2024.7.4)\n",
      "Requirement already satisfied: typing-extensions>=4.6.0 in c:\\drag software\\anaconda3\\lib\\site-packages (from SQLAlchemy<3,>=1.4->langchain_community) (4.11.0)\n",
      "Requirement already satisfied: greenlet!=0.4.17 in c:\\drag software\\anaconda3\\lib\\site-packages (from SQLAlchemy<3,>=1.4->langchain_community) (3.0.1)\n",
      "Requirement already satisfied: jsonpointer>=1.9 in c:\\drag software\\anaconda3\\lib\\site-packages (from jsonpatch<2.0,>=1.33->langchain-core<0.3.0,>=0.2.23->langchain_community) (2.1)\n",
      "Requirement already satisfied: annotated-types>=0.4.0 in c:\\drag software\\anaconda3\\lib\\site-packages (from pydantic<3,>=1->langchain<0.3.0,>=0.2.9->langchain_community) (0.6.0)\n",
      "Requirement already satisfied: pydantic-core==2.20.1 in c:\\drag software\\anaconda3\\lib\\site-packages (from pydantic<3,>=1->langchain<0.3.0,>=0.2.9->langchain_community) (2.20.1)\n",
      "Requirement already satisfied: mypy-extensions>=0.3.0 in c:\\drag software\\anaconda3\\lib\\site-packages (from typing-inspect<1,>=0.4.0->dataclasses-json<0.7,>=0.5.7->langchain_community) (1.0.0)\n",
      "Using cached langchain_community-0.2.10-py3-none-any.whl (2.3 MB)\n",
      "Using cached dataclasses_json-0.6.7-py3-none-any.whl (28 kB)\n",
      "Using cached marshmallow-3.21.3-py3-none-any.whl (49 kB)\n",
      "Using cached typing_inspect-0.9.0-py3-none-any.whl (8.8 kB)\n",
      "Installing collected packages: typing-inspect, marshmallow, dataclasses-json, langchain_community\n",
      "Successfully installed dataclasses-json-0.6.7 langchain_community-0.2.10 marshmallow-3.21.3 typing-inspect-0.9.0\n",
      "Note: you may need to restart the kernel to use updated packages.\n"
     ]
    }
   ],
   "source": [
    "pip install langchain_community"
   ]
  },
  {
   "cell_type": "code",
   "execution_count": 9,
   "id": "1adab14a-8ff1-4f3c-af55-7bddf3f756fd",
   "metadata": {},
   "outputs": [],
   "source": [
    "from langchain.llms import Ollama"
   ]
  },
  {
   "cell_type": "code",
   "execution_count": 19,
   "id": "14922017-0a6d-4d28-8fde-041029d34d3b",
   "metadata": {},
   "outputs": [],
   "source": [
    "ollama=Ollama(base_url='http://localhost:11434', model=\"llama2\")\n",
    "\n",
    "#the base_url remains same for all"
   ]
  },
  {
   "cell_type": "code",
   "execution_count": 22,
   "id": "3e48a48e-7920-44ff-a449-0585bc2e7c7b",
   "metadata": {},
   "outputs": [
    {
     "name": "stdout",
     "output_type": "stream",
     "text": [
      "\n",
      "Artificial intelligence (AI) refers to the development of computer systems that can perform tasks that typically require human intelligence, such as learning, problem-solving, decision-making, and perception. AI systems use algorithms and models to analyze data and make predictions or decisions based on that data.\n",
      "\n",
      "There are several types of AI, including:\n",
      "\n",
      "1. Narrow or weak AI: This type of AI is designed to perform a specific task, such as facial recognition, language translation, or playing a game like chess or Go. Narrow AI systems are typically trained on large datasets and use machine learning algorithms to learn from the data.\n",
      "2. General or strong AI: This type of AI is designed to perform any intellectual task that a human can. General AI systems are still in the realm of research and development, but they have the potential to revolutionize many industries and fields, including healthcare, finance, and education.\n",
      "3. Superintelligence: This type of AI is significantly more intelligent than the best human minds. Superintelligent AI could potentially solve complex problems that are currently unsolvable, but it also raises concerns about safety and control.\n",
      "4. Artificial general intelligence (AGI): AGI refers to a hypothetical AI system that possesses the ability to understand, learn, and apply knowledge across a wide range of tasks and domains, at a level equal to or beyond human capability.\n",
      "5. Transhumanism: This is a philosophical and technological movement that aims to use AI and other advanced technologies to enhance human intelligence, physical abilities, and lifespan.\n",
      "\n",
      "The field of AI is rapidly evolving, with new breakthroughs and innovations being made regularly. Some of the current trends in AI include:\n",
      "\n",
      "1. Deep learning: This is a subset of machine learning that uses neural networks to analyze data and make predictions or decisions.\n",
      "2. Natural language processing (NLP): This is a field of AI that focuses on enabling computers to understand, interpret, and generate human language.\n",
      "3. Computer vision: This is a field of AI that focuses on enabling computers to interpret and understand visual data from the world around us.\n",
      "4. Robotics: This is the field of AI that focuses on enabling computers to perform tasks that require physical manipulation of objects or interactions with the real world.\n",
      "5. Reinforcement learning: This is a type of machine learning that involves an AI system learning from its environment and making decisions based on rewards or penalties.\n",
      "6. Generative models: These are AI systems that can generate new data, such as images, videos, or text, that is similar to the training data.\n",
      "7. Explainability and transparency: There is a growing interest in developing AI systems that can provide clear explanations for their decisions and actions, and that are transparent about their decision-making processes.\n",
      "8. Edge AI: This refers to the use of AI techniques at the edge of the network, closer to the source of the data, rather than in the cloud or on remote servers.\n",
      "9. Transfer learning: This is a technique that allows AI systems to learn from one task or domain and apply that knowledge to other tasks or domains.\n",
      "10. Ethics and fairness: There is a growing focus on ensuring that AI systems are ethical, fair, and unbiased, and that they do not perpetuate or exacerbate existing social inequalities.\n"
     ]
    }
   ],
   "source": [
    "print(ollama(\"what is ai\"))"
   ]
  },
  {
   "cell_type": "code",
   "execution_count": 24,
   "id": "bf6352a8-26d2-4085-9cd9-9a3d54d0c553",
   "metadata": {},
   "outputs": [
    {
     "name": "stdout",
     "output_type": "stream",
     "text": [
      "Hello there! *waves* I'm Rambot, here to help you with any questions you may have about computer science. *twinkle in the eyes*\n",
      "\n",
      "Ah, a question about Sodium Rom! *excited nodding* Sodium Rom is an open-source, web-based operating system designed for ARM-based single-board computers like the Raspberry Pi. It's a lightweight, Linux-based distribution that aims to provide a simple and easy-to-use interface for tinkerers, hobbyists, and makers.\n",
      "\n",
      "Sodium Rom features a customized KDE Plasma Desktop environment with a minimalistic design, making it easy to navigate and use. It also comes with a variety of pre-installed applications, including a web browser, media player, office suite, and more. Plus, it supports a wide range of hardware peripherals like cameras, GPS devices, and Bluetooth modules.\n",
      "\n",
      "One of the unique aspects of Sodium Rom is its focus on security and privacy. It includes features like full-disk encryption, automatic backups, and built-in malware protection to keep your device and data safe.\n",
      "\n",
      "Overall, Sodium Rom is a great choice for anyone looking for a lightweight, user-friendly, and secure operating system for their Raspberry Pi or other ARM-based single-board computer. *smiling* Do you have any more questions about it?\n"
     ]
    }
   ],
   "source": [
    "#even i can run my own model \n",
    "ollama=Ollama(base_url='http://localhost:11434', model=\"Rambot\")\n",
    "\n",
    "print(ollama(\"what is sodium rom?\"))"
   ]
  },
  {
   "cell_type": "code",
   "execution_count": null,
   "id": "83364997-d2a1-424a-afca-253fa49aaf9e",
   "metadata": {},
   "outputs": [],
   "source": []
  }
 ],
 "metadata": {
  "kernelspec": {
   "display_name": "Python 3 (ipykernel)",
   "language": "python",
   "name": "python3"
  },
  "language_info": {
   "codemirror_mode": {
    "name": "ipython",
    "version": 3
   },
   "file_extension": ".py",
   "mimetype": "text/x-python",
   "name": "python",
   "nbconvert_exporter": "python",
   "pygments_lexer": "ipython3",
   "version": "3.12.4"
  }
 },
 "nbformat": 4,
 "nbformat_minor": 5
}
